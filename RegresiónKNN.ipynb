{
  "nbformat": 4,
  "nbformat_minor": 0,
  "metadata": {
    "colab": {
      "name": "RegresiónKNN.ipynb",
      "provenance": [],
      "authorship_tag": "ABX9TyPM92aHYgg7N49u27hu3ARa",
      "include_colab_link": true
    },
    "kernelspec": {
      "name": "python3",
      "display_name": "Python 3"
    },
    "language_info": {
      "name": "python"
    }
  },
  "cells": [
    {
      "cell_type": "markdown",
      "metadata": {
        "id": "view-in-github",
        "colab_type": "text"
      },
      "source": [
        "<a href=\"https://colab.research.google.com/github/sebastiandaliramirez/CSV/blob/main/Regresi%C3%B3nKNN.ipynb\" target=\"_parent\"><img src=\"https://colab.research.google.com/assets/colab-badge.svg\" alt=\"Open In Colab\"/></a>"
      ]
    },
    {
      "cell_type": "markdown",
      "source": [
        "**Regresión por KNN**\n",
        "\n",
        "\n",
        "Sebastían Dalí Ramírez Llanas"
      ],
      "metadata": {
        "id": "P6exXSL4b_Ov"
      }
    },
    {
      "cell_type": "code",
      "execution_count": null,
      "metadata": {
        "id": "OF1u-IZ0b-u8"
      },
      "outputs": [],
      "source": [
        "import pandas as pd\n",
        "import numpy as np\n",
        "import math as m\n",
        "import matplotlib.pyplot as plt\n",
        "import random\n",
        "from sklearn.neighbors import KNeighborsRegressor\n",
        "from sklearn.metrics import mean_squared_error, mean_absolute_error\n",
        "\n",
        "par = [[0.0],[.5],[1.0],[1.6],[2.0],[3.0]]\n",
        "par2 = np.zeros(shape = (6,1), dtype = float)\n",
        "y = np.zeros(shape = (20,1), dtype = float)\n",
        "rand = np.zeros(shape = (20,1), dtype = float)\n",
        "par = np.array(par)\n",
        "\n",
        "for i in range(0,6):\n",
        "  par2[i] = m.sin(2*m.pi*par[i]) + par[i]**2\n",
        "\n",
        "for i in range(20):\n",
        "  rand[i] = random.random()*m.pi\n",
        "\n",
        "knn = KNeighborsRegressor(n_neighbors=3)\n",
        "y_train = par2\n",
        "X_train = par\n",
        "knn.fit(X_train,y_train)\n",
        "y_pred = knn.predict(rand)\n",
        "\n",
        "for i in range(20):\n",
        "  y[i] = m.sin(2*m.pi*rand[i])+rand[i]**2\n",
        "\n",
        "print(mean_squared_error(y,y_pred))\n",
        "print(mean_absolute_error(y,y_pred))\n",
        "\n",
        "error = []\n",
        "for k in range(1,7):\n",
        "  knn = KNeighborsRegressor(n_neighbors=k)\n",
        "  knn.fit(X_train,y_train)\n",
        "  y_pred = knn.predict(rand)\n",
        "  error.append(mean_squared_error(y,y_pred))\n",
        "plt.plot(range(1,7),error)"
      ]
    }
  ]
}